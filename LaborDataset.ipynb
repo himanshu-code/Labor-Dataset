{
 "cells": [
  {
   "cell_type": "code",
   "execution_count": 125,
   "metadata": {},
   "outputs": [],
   "source": [
    "import pandas as pd\n",
    "import numpy as np\n",
    "import matplotlib.pyplot as plt\n",
    "%matplotlib inline\n",
    "import seaborn as sns"
   ]
  },
  {
   "cell_type": "code",
   "execution_count": 126,
   "metadata": {},
   "outputs": [],
   "source": [
    "data=pd.read_csv('labor.csv')"
   ]
  },
  {
   "cell_type": "markdown",
   "metadata": {},
   "source": [
    "# Variable Identification"
   ]
  },
  {
   "cell_type": "code",
   "execution_count": 127,
   "metadata": {},
   "outputs": [
    {
     "data": {
      "text/html": [
       "<div>\n",
       "<style scoped>\n",
       "    .dataframe tbody tr th:only-of-type {\n",
       "        vertical-align: middle;\n",
       "    }\n",
       "\n",
       "    .dataframe tbody tr th {\n",
       "        vertical-align: top;\n",
       "    }\n",
       "\n",
       "    .dataframe thead th {\n",
       "        text-align: right;\n",
       "    }\n",
       "</style>\n",
       "<table border=\"1\" class=\"dataframe\">\n",
       "  <thead>\n",
       "    <tr style=\"text-align: right;\">\n",
       "      <th></th>\n",
       "      <th>duration</th>\n",
       "      <th>wage-increase-first-year</th>\n",
       "      <th>wage-increase-second-year</th>\n",
       "      <th>wage-increase-third-year</th>\n",
       "      <th>cost-of-living-adjustment</th>\n",
       "      <th>working-hours</th>\n",
       "      <th>pension</th>\n",
       "      <th>standby-pay</th>\n",
       "      <th>shift-differential</th>\n",
       "      <th>education-allowance</th>\n",
       "      <th>statutory-holidays</th>\n",
       "      <th>vacation</th>\n",
       "      <th>longterm-disability-assistance</th>\n",
       "      <th>contribution-to-dental-plan</th>\n",
       "      <th>bereavement-assistance</th>\n",
       "      <th>contribution-to-health-plan</th>\n",
       "      <th>class</th>\n",
       "    </tr>\n",
       "  </thead>\n",
       "  <tbody>\n",
       "    <tr>\n",
       "      <td>0</td>\n",
       "      <td>1</td>\n",
       "      <td>5</td>\n",
       "      <td>?</td>\n",
       "      <td>?</td>\n",
       "      <td>?</td>\n",
       "      <td>40</td>\n",
       "      <td>?</td>\n",
       "      <td>?</td>\n",
       "      <td>2</td>\n",
       "      <td>?</td>\n",
       "      <td>11</td>\n",
       "      <td>average</td>\n",
       "      <td>?</td>\n",
       "      <td>?</td>\n",
       "      <td>yes</td>\n",
       "      <td>?</td>\n",
       "      <td>good</td>\n",
       "    </tr>\n",
       "    <tr>\n",
       "      <td>1</td>\n",
       "      <td>2</td>\n",
       "      <td>4.5</td>\n",
       "      <td>5.8</td>\n",
       "      <td>?</td>\n",
       "      <td>?</td>\n",
       "      <td>35</td>\n",
       "      <td>ret_allw</td>\n",
       "      <td>?</td>\n",
       "      <td>?</td>\n",
       "      <td>yes</td>\n",
       "      <td>11</td>\n",
       "      <td>below_average</td>\n",
       "      <td>?</td>\n",
       "      <td>full</td>\n",
       "      <td>?</td>\n",
       "      <td>full</td>\n",
       "      <td>good</td>\n",
       "    </tr>\n",
       "    <tr>\n",
       "      <td>2</td>\n",
       "      <td>?</td>\n",
       "      <td>?</td>\n",
       "      <td>?</td>\n",
       "      <td>?</td>\n",
       "      <td>?</td>\n",
       "      <td>38</td>\n",
       "      <td>empl_contr</td>\n",
       "      <td>?</td>\n",
       "      <td>5</td>\n",
       "      <td>?</td>\n",
       "      <td>11</td>\n",
       "      <td>generous</td>\n",
       "      <td>yes</td>\n",
       "      <td>half</td>\n",
       "      <td>yes</td>\n",
       "      <td>half</td>\n",
       "      <td>good</td>\n",
       "    </tr>\n",
       "    <tr>\n",
       "      <td>3</td>\n",
       "      <td>3</td>\n",
       "      <td>3.7</td>\n",
       "      <td>4</td>\n",
       "      <td>5</td>\n",
       "      <td>tc</td>\n",
       "      <td>?</td>\n",
       "      <td>?</td>\n",
       "      <td>?</td>\n",
       "      <td>?</td>\n",
       "      <td>yes</td>\n",
       "      <td>?</td>\n",
       "      <td>?</td>\n",
       "      <td>?</td>\n",
       "      <td>?</td>\n",
       "      <td>yes</td>\n",
       "      <td>?</td>\n",
       "      <td>good</td>\n",
       "    </tr>\n",
       "    <tr>\n",
       "      <td>4</td>\n",
       "      <td>3</td>\n",
       "      <td>4.5</td>\n",
       "      <td>4.5</td>\n",
       "      <td>5</td>\n",
       "      <td>?</td>\n",
       "      <td>40</td>\n",
       "      <td>?</td>\n",
       "      <td>?</td>\n",
       "      <td>?</td>\n",
       "      <td>?</td>\n",
       "      <td>12</td>\n",
       "      <td>average</td>\n",
       "      <td>?</td>\n",
       "      <td>half</td>\n",
       "      <td>yes</td>\n",
       "      <td>half</td>\n",
       "      <td>good</td>\n",
       "    </tr>\n",
       "  </tbody>\n",
       "</table>\n",
       "</div>"
      ],
      "text/plain": [
       "  duration wage-increase-first-year wage-increase-second-year  \\\n",
       "0        1                        5                         ?   \n",
       "1        2                      4.5                       5.8   \n",
       "2        ?                        ?                         ?   \n",
       "3        3                      3.7                         4   \n",
       "4        3                      4.5                       4.5   \n",
       "\n",
       "  wage-increase-third-year cost-of-living-adjustment working-hours  \\\n",
       "0                        ?                         ?            40   \n",
       "1                        ?                         ?            35   \n",
       "2                        ?                         ?            38   \n",
       "3                        5                        tc             ?   \n",
       "4                        5                         ?            40   \n",
       "\n",
       "      pension standby-pay shift-differential education-allowance  \\\n",
       "0           ?           ?                  2                   ?   \n",
       "1    ret_allw           ?                  ?                 yes   \n",
       "2  empl_contr           ?                  5                   ?   \n",
       "3           ?           ?                  ?                 yes   \n",
       "4           ?           ?                  ?                   ?   \n",
       "\n",
       "  statutory-holidays       vacation longterm-disability-assistance  \\\n",
       "0                 11        average                              ?   \n",
       "1                 11  below_average                              ?   \n",
       "2                 11       generous                            yes   \n",
       "3                  ?              ?                              ?   \n",
       "4                 12        average                              ?   \n",
       "\n",
       "  contribution-to-dental-plan bereavement-assistance  \\\n",
       "0                           ?                    yes   \n",
       "1                        full                      ?   \n",
       "2                        half                    yes   \n",
       "3                           ?                    yes   \n",
       "4                        half                    yes   \n",
       "\n",
       "  contribution-to-health-plan class  \n",
       "0                           ?  good  \n",
       "1                        full  good  \n",
       "2                        half  good  \n",
       "3                           ?  good  \n",
       "4                        half  good  "
      ]
     },
     "execution_count": 127,
     "metadata": {},
     "output_type": "execute_result"
    }
   ],
   "source": [
    "data.head()"
   ]
  },
  {
   "cell_type": "code",
   "execution_count": 128,
   "metadata": {},
   "outputs": [
    {
     "data": {
      "text/plain": [
       "duration                          object\n",
       "wage-increase-first-year          object\n",
       "wage-increase-second-year         object\n",
       "wage-increase-third-year          object\n",
       "cost-of-living-adjustment         object\n",
       "working-hours                     object\n",
       "pension                           object\n",
       "standby-pay                       object\n",
       "shift-differential                object\n",
       "education-allowance               object\n",
       "statutory-holidays                object\n",
       "vacation                          object\n",
       "longterm-disability-assistance    object\n",
       "contribution-to-dental-plan       object\n",
       "bereavement-assistance            object\n",
       "contribution-to-health-plan       object\n",
       "class                             object\n",
       "dtype: object"
      ]
     },
     "execution_count": 128,
     "metadata": {},
     "output_type": "execute_result"
    }
   ],
   "source": [
    "data.dtypes"
   ]
  },
  {
   "cell_type": "code",
   "execution_count": 129,
   "metadata": {},
   "outputs": [
    {
     "data": {
      "text/plain": [
       "duration                          57\n",
       "wage-increase-first-year          57\n",
       "wage-increase-second-year         57\n",
       "wage-increase-third-year          57\n",
       "cost-of-living-adjustment         57\n",
       "working-hours                     57\n",
       "pension                           57\n",
       "standby-pay                       57\n",
       "shift-differential                57\n",
       "education-allowance               57\n",
       "statutory-holidays                57\n",
       "vacation                          57\n",
       "longterm-disability-assistance    57\n",
       "contribution-to-dental-plan       57\n",
       "bereavement-assistance            57\n",
       "contribution-to-health-plan       57\n",
       "class                             57\n",
       "dtype: int64"
      ]
     },
     "execution_count": 129,
     "metadata": {},
     "output_type": "execute_result"
    }
   ],
   "source": [
    "data.count()"
   ]
  },
  {
   "cell_type": "code",
   "execution_count": 130,
   "metadata": {},
   "outputs": [
    {
     "data": {
      "text/html": [
       "<div>\n",
       "<style scoped>\n",
       "    .dataframe tbody tr th:only-of-type {\n",
       "        vertical-align: middle;\n",
       "    }\n",
       "\n",
       "    .dataframe tbody tr th {\n",
       "        vertical-align: top;\n",
       "    }\n",
       "\n",
       "    .dataframe thead th {\n",
       "        text-align: right;\n",
       "    }\n",
       "</style>\n",
       "<table border=\"1\" class=\"dataframe\">\n",
       "  <thead>\n",
       "    <tr style=\"text-align: right;\">\n",
       "      <th></th>\n",
       "      <th>duration</th>\n",
       "      <th>wage-increase-first-year</th>\n",
       "      <th>wage-increase-second-year</th>\n",
       "      <th>wage-increase-third-year</th>\n",
       "      <th>cost-of-living-adjustment</th>\n",
       "      <th>working-hours</th>\n",
       "      <th>pension</th>\n",
       "      <th>standby-pay</th>\n",
       "      <th>shift-differential</th>\n",
       "      <th>education-allowance</th>\n",
       "      <th>statutory-holidays</th>\n",
       "      <th>vacation</th>\n",
       "      <th>longterm-disability-assistance</th>\n",
       "      <th>contribution-to-dental-plan</th>\n",
       "      <th>bereavement-assistance</th>\n",
       "      <th>contribution-to-health-plan</th>\n",
       "      <th>class</th>\n",
       "    </tr>\n",
       "  </thead>\n",
       "  <tbody>\n",
       "    <tr>\n",
       "      <td>count</td>\n",
       "      <td>57</td>\n",
       "      <td>57</td>\n",
       "      <td>57</td>\n",
       "      <td>57</td>\n",
       "      <td>57</td>\n",
       "      <td>57</td>\n",
       "      <td>57</td>\n",
       "      <td>57</td>\n",
       "      <td>57</td>\n",
       "      <td>57</td>\n",
       "      <td>57</td>\n",
       "      <td>57</td>\n",
       "      <td>57</td>\n",
       "      <td>57</td>\n",
       "      <td>57</td>\n",
       "      <td>57</td>\n",
       "      <td>57</td>\n",
       "    </tr>\n",
       "    <tr>\n",
       "      <td>unique</td>\n",
       "      <td>4</td>\n",
       "      <td>18</td>\n",
       "      <td>16</td>\n",
       "      <td>10</td>\n",
       "      <td>4</td>\n",
       "      <td>9</td>\n",
       "      <td>4</td>\n",
       "      <td>8</td>\n",
       "      <td>11</td>\n",
       "      <td>3</td>\n",
       "      <td>7</td>\n",
       "      <td>4</td>\n",
       "      <td>3</td>\n",
       "      <td>4</td>\n",
       "      <td>3</td>\n",
       "      <td>4</td>\n",
       "      <td>2</td>\n",
       "    </tr>\n",
       "    <tr>\n",
       "      <td>top</td>\n",
       "      <td>2</td>\n",
       "      <td>2</td>\n",
       "      <td>4</td>\n",
       "      <td>?</td>\n",
       "      <td>none</td>\n",
       "      <td>40</td>\n",
       "      <td>?</td>\n",
       "      <td>?</td>\n",
       "      <td>?</td>\n",
       "      <td>?</td>\n",
       "      <td>11</td>\n",
       "      <td>below_average</td>\n",
       "      <td>?</td>\n",
       "      <td>?</td>\n",
       "      <td>?</td>\n",
       "      <td>full</td>\n",
       "      <td>good</td>\n",
       "    </tr>\n",
       "    <tr>\n",
       "      <td>freq</td>\n",
       "      <td>27</td>\n",
       "      <td>10</td>\n",
       "      <td>13</td>\n",
       "      <td>42</td>\n",
       "      <td>22</td>\n",
       "      <td>23</td>\n",
       "      <td>30</td>\n",
       "      <td>48</td>\n",
       "      <td>26</td>\n",
       "      <td>35</td>\n",
       "      <td>21</td>\n",
       "      <td>18</td>\n",
       "      <td>29</td>\n",
       "      <td>20</td>\n",
       "      <td>27</td>\n",
       "      <td>20</td>\n",
       "      <td>37</td>\n",
       "    </tr>\n",
       "  </tbody>\n",
       "</table>\n",
       "</div>"
      ],
      "text/plain": [
       "       duration wage-increase-first-year wage-increase-second-year  \\\n",
       "count        57                       57                        57   \n",
       "unique        4                       18                        16   \n",
       "top           2                        2                         4   \n",
       "freq         27                       10                        13   \n",
       "\n",
       "       wage-increase-third-year cost-of-living-adjustment working-hours  \\\n",
       "count                        57                        57            57   \n",
       "unique                       10                         4             9   \n",
       "top                           ?                      none            40   \n",
       "freq                         42                        22            23   \n",
       "\n",
       "       pension standby-pay shift-differential education-allowance  \\\n",
       "count       57          57                 57                  57   \n",
       "unique       4           8                 11                   3   \n",
       "top          ?           ?                  ?                   ?   \n",
       "freq        30          48                 26                  35   \n",
       "\n",
       "       statutory-holidays       vacation longterm-disability-assistance  \\\n",
       "count                  57             57                             57   \n",
       "unique                  7              4                              3   \n",
       "top                    11  below_average                              ?   \n",
       "freq                   21             18                             29   \n",
       "\n",
       "       contribution-to-dental-plan bereavement-assistance  \\\n",
       "count                           57                     57   \n",
       "unique                           4                      3   \n",
       "top                              ?                      ?   \n",
       "freq                            20                     27   \n",
       "\n",
       "       contribution-to-health-plan class  \n",
       "count                           57    57  \n",
       "unique                           4     2  \n",
       "top                           full  good  \n",
       "freq                            20    37  "
      ]
     },
     "execution_count": 130,
     "metadata": {},
     "output_type": "execute_result"
    }
   ],
   "source": [
    "data.describe()"
   ]
  },
  {
   "cell_type": "markdown",
   "metadata": {},
   "source": [
    "# Data Cleaning\n"
   ]
  },
  {
   "cell_type": "code",
   "execution_count": 131,
   "metadata": {},
   "outputs": [
    {
     "data": {
      "text/plain": [
       "duration                           1\n",
       "wage-increase-first-year           1\n",
       "wage-increase-second-year         11\n",
       "wage-increase-third-year          42\n",
       "cost-of-living-adjustment         20\n",
       "working-hours                      6\n",
       "pension                           30\n",
       "standby-pay                       48\n",
       "shift-differential                26\n",
       "education-allowance               35\n",
       "statutory-holidays                 4\n",
       "vacation                           6\n",
       "longterm-disability-assistance    29\n",
       "contribution-to-dental-plan       20\n",
       "bereavement-assistance            27\n",
       "contribution-to-health-plan       20\n",
       "class                              0\n",
       "dtype: int64"
      ]
     },
     "execution_count": 131,
     "metadata": {},
     "output_type": "execute_result"
    }
   ],
   "source": [
    "data[data==\"?\"].count()"
   ]
  },
  {
   "cell_type": "code",
   "execution_count": 132,
   "metadata": {
    "scrolled": true
   },
   "outputs": [],
   "source": [
    "data=data.replace(to_replace =\"?\",value =0)"
   ]
  },
  {
   "cell_type": "code",
   "execution_count": 133,
   "metadata": {},
   "outputs": [],
   "source": [
    "data=data.drop(['wage-increase-third-year','pension','pension','standby-pay','shift-differential','education-allowance','longterm-disability-assistance','bereavement-assistance'],axis=1)"
   ]
  },
  {
   "cell_type": "code",
   "execution_count": 134,
   "metadata": {},
   "outputs": [
    {
     "data": {
      "text/plain": [
       "duration                       object\n",
       "wage-increase-first-year       object\n",
       "wage-increase-second-year      object\n",
       "cost-of-living-adjustment      object\n",
       "working-hours                  object\n",
       "statutory-holidays             object\n",
       "vacation                       object\n",
       "contribution-to-dental-plan    object\n",
       "contribution-to-health-plan    object\n",
       "class                          object\n",
       "dtype: object"
      ]
     },
     "execution_count": 134,
     "metadata": {},
     "output_type": "execute_result"
    }
   ],
   "source": [
    "data.dtypes"
   ]
  },
  {
   "cell_type": "code",
   "execution_count": 135,
   "metadata": {
    "scrolled": true
   },
   "outputs": [],
   "source": [
    "data[['wage-increase-first-year','wage-increase-second-year','working-hours','statutory-holidays']]=data[['wage-increase-first-year','wage-increase-second-year','working-hours','statutory-holidays']].apply(pd.to_numeric)"
   ]
  },
  {
   "cell_type": "code",
   "execution_count": 136,
   "metadata": {},
   "outputs": [
    {
     "data": {
      "text/plain": [
       "duration                        object\n",
       "wage-increase-first-year       float64\n",
       "wage-increase-second-year      float64\n",
       "cost-of-living-adjustment       object\n",
       "working-hours                    int64\n",
       "statutory-holidays               int64\n",
       "vacation                        object\n",
       "contribution-to-dental-plan     object\n",
       "contribution-to-health-plan     object\n",
       "class                           object\n",
       "dtype: object"
      ]
     },
     "execution_count": 136,
     "metadata": {},
     "output_type": "execute_result"
    }
   ],
   "source": [
    "data.dtypes"
   ]
  },
  {
   "cell_type": "code",
   "execution_count": 137,
   "metadata": {},
   "outputs": [
    {
     "data": {
      "text/html": [
       "<div>\n",
       "<style scoped>\n",
       "    .dataframe tbody tr th:only-of-type {\n",
       "        vertical-align: middle;\n",
       "    }\n",
       "\n",
       "    .dataframe tbody tr th {\n",
       "        vertical-align: top;\n",
       "    }\n",
       "\n",
       "    .dataframe thead th {\n",
       "        text-align: right;\n",
       "    }\n",
       "</style>\n",
       "<table border=\"1\" class=\"dataframe\">\n",
       "  <thead>\n",
       "    <tr style=\"text-align: right;\">\n",
       "      <th></th>\n",
       "      <th>wage-increase-first-year</th>\n",
       "      <th>wage-increase-second-year</th>\n",
       "      <th>working-hours</th>\n",
       "      <th>statutory-holidays</th>\n",
       "    </tr>\n",
       "  </thead>\n",
       "  <tbody>\n",
       "    <tr>\n",
       "      <td>count</td>\n",
       "      <td>57.000000</td>\n",
       "      <td>57.000000</td>\n",
       "      <td>57.000000</td>\n",
       "      <td>57.000000</td>\n",
       "    </tr>\n",
       "    <tr>\n",
       "      <td>mean</td>\n",
       "      <td>3.736842</td>\n",
       "      <td>3.205263</td>\n",
       "      <td>34.035088</td>\n",
       "      <td>10.315789</td>\n",
       "    </tr>\n",
       "    <tr>\n",
       "      <td>std</td>\n",
       "      <td>1.448723</td>\n",
       "      <td>1.894581</td>\n",
       "      <td>12.013333</td>\n",
       "      <td>3.106203</td>\n",
       "    </tr>\n",
       "    <tr>\n",
       "      <td>min</td>\n",
       "      <td>0.000000</td>\n",
       "      <td>0.000000</td>\n",
       "      <td>0.000000</td>\n",
       "      <td>0.000000</td>\n",
       "    </tr>\n",
       "    <tr>\n",
       "      <td>25%</td>\n",
       "      <td>2.500000</td>\n",
       "      <td>2.500000</td>\n",
       "      <td>35.000000</td>\n",
       "      <td>10.000000</td>\n",
       "    </tr>\n",
       "    <tr>\n",
       "      <td>50%</td>\n",
       "      <td>4.000000</td>\n",
       "      <td>4.000000</td>\n",
       "      <td>38.000000</td>\n",
       "      <td>11.000000</td>\n",
       "    </tr>\n",
       "    <tr>\n",
       "      <td>75%</td>\n",
       "      <td>4.500000</td>\n",
       "      <td>4.500000</td>\n",
       "      <td>40.000000</td>\n",
       "      <td>12.000000</td>\n",
       "    </tr>\n",
       "    <tr>\n",
       "      <td>max</td>\n",
       "      <td>7.000000</td>\n",
       "      <td>7.000000</td>\n",
       "      <td>40.000000</td>\n",
       "      <td>15.000000</td>\n",
       "    </tr>\n",
       "  </tbody>\n",
       "</table>\n",
       "</div>"
      ],
      "text/plain": [
       "       wage-increase-first-year  wage-increase-second-year  working-hours  \\\n",
       "count                 57.000000                  57.000000      57.000000   \n",
       "mean                   3.736842                   3.205263      34.035088   \n",
       "std                    1.448723                   1.894581      12.013333   \n",
       "min                    0.000000                   0.000000       0.000000   \n",
       "25%                    2.500000                   2.500000      35.000000   \n",
       "50%                    4.000000                   4.000000      38.000000   \n",
       "75%                    4.500000                   4.500000      40.000000   \n",
       "max                    7.000000                   7.000000      40.000000   \n",
       "\n",
       "       statutory-holidays  \n",
       "count           57.000000  \n",
       "mean            10.315789  \n",
       "std              3.106203  \n",
       "min              0.000000  \n",
       "25%             10.000000  \n",
       "50%             11.000000  \n",
       "75%             12.000000  \n",
       "max             15.000000  "
      ]
     },
     "execution_count": 137,
     "metadata": {},
     "output_type": "execute_result"
    }
   ],
   "source": [
    "data.describe()"
   ]
  },
  {
   "cell_type": "code",
   "execution_count": 138,
   "metadata": {},
   "outputs": [],
   "source": [
    "data=data.replace(0,np.nan)"
   ]
  },
  {
   "cell_type": "code",
   "execution_count": 139,
   "metadata": {},
   "outputs": [
    {
     "data": {
      "text/plain": [
       "duration                        1\n",
       "wage-increase-first-year        1\n",
       "wage-increase-second-year      11\n",
       "cost-of-living-adjustment      20\n",
       "working-hours                   6\n",
       "statutory-holidays              4\n",
       "vacation                        6\n",
       "contribution-to-dental-plan    20\n",
       "contribution-to-health-plan    20\n",
       "class                           0\n",
       "dtype: int64"
      ]
     },
     "execution_count": 139,
     "metadata": {},
     "output_type": "execute_result"
    }
   ],
   "source": [
    "data.isnull().sum()"
   ]
  },
  {
   "cell_type": "code",
   "execution_count": 140,
   "metadata": {},
   "outputs": [],
   "source": [
    "data['cost-of-living-adjustment'].fillna(method='ffill',inplace=True)"
   ]
  },
  {
   "cell_type": "code",
   "execution_count": 141,
   "metadata": {},
   "outputs": [],
   "source": [
    "data['contribution-to-dental-plan'].fillna(method='ffill',inplace=True)"
   ]
  },
  {
   "cell_type": "code",
   "execution_count": 142,
   "metadata": {},
   "outputs": [],
   "source": [
    "data['contribution-to-health-plan'].fillna(method='ffill',inplace=True)"
   ]
  },
  {
   "cell_type": "code",
   "execution_count": 143,
   "metadata": {},
   "outputs": [
    {
     "data": {
      "text/plain": [
       "duration                        1\n",
       "wage-increase-first-year        1\n",
       "wage-increase-second-year      11\n",
       "cost-of-living-adjustment       3\n",
       "working-hours                   6\n",
       "statutory-holidays              4\n",
       "vacation                        6\n",
       "contribution-to-dental-plan     1\n",
       "contribution-to-health-plan     1\n",
       "class                           0\n",
       "dtype: int64"
      ]
     },
     "execution_count": 143,
     "metadata": {},
     "output_type": "execute_result"
    }
   ],
   "source": [
    "data.isnull().sum()"
   ]
  },
  {
   "cell_type": "code",
   "execution_count": 144,
   "metadata": {},
   "outputs": [],
   "source": [
    "data.dropna(inplace=True) # dropping all the columns with null values"
   ]
  },
  {
   "cell_type": "code",
   "execution_count": 145,
   "metadata": {},
   "outputs": [
    {
     "data": {
      "text/plain": [
       "duration                       0\n",
       "wage-increase-first-year       0\n",
       "wage-increase-second-year      0\n",
       "cost-of-living-adjustment      0\n",
       "working-hours                  0\n",
       "statutory-holidays             0\n",
       "vacation                       0\n",
       "contribution-to-dental-plan    0\n",
       "contribution-to-health-plan    0\n",
       "class                          0\n",
       "dtype: int64"
      ]
     },
     "execution_count": 145,
     "metadata": {},
     "output_type": "execute_result"
    }
   ],
   "source": [
    "data.isnull().sum()"
   ]
  },
  {
   "cell_type": "markdown",
   "metadata": {},
   "source": [
    "# Visualization"
   ]
  },
  {
   "cell_type": "code",
   "execution_count": 146,
   "metadata": {},
   "outputs": [
    {
     "data": {
      "text/plain": [
       "duration                        object\n",
       "wage-increase-first-year       float64\n",
       "wage-increase-second-year      float64\n",
       "cost-of-living-adjustment       object\n",
       "working-hours                  float64\n",
       "statutory-holidays             float64\n",
       "vacation                        object\n",
       "contribution-to-dental-plan     object\n",
       "contribution-to-health-plan     object\n",
       "class                           object\n",
       "dtype: object"
      ]
     },
     "execution_count": 146,
     "metadata": {},
     "output_type": "execute_result"
    }
   ],
   "source": [
    "data.dtypes"
   ]
  },
  {
   "cell_type": "code",
   "execution_count": 147,
   "metadata": {},
   "outputs": [
    {
     "data": {
      "text/plain": [
       "<matplotlib.axes._subplots.AxesSubplot at 0x2ca6e4bbb08>"
      ]
     },
     "execution_count": 147,
     "metadata": {},
     "output_type": "execute_result"
    },
    {
     "data": {
      "image/png": "[encoded data removed]",
      "text/plain": [
       "<Figure size 432x288 with 1 Axes>"
      ]
     },
     "metadata": {
      "needs_background": "light"
     },
     "output_type": "display_data"
    }
   ],
   "source": [
    "sns.boxplot(y='wage-increase-first-year',data=data)"
   ]
  },
  {
   "cell_type": "code",
   "execution_count": 148,
   "metadata": {},
   "outputs": [
    {
     "data": {
      "text/plain": [
       "<matplotlib.axes._subplots.AxesSubplot at 0x2ca6ea0b888>"
      ]
     },
     "execution_count": 148,
     "metadata": {},
     "output_type": "execute_result"
    },
    {
     "data": {
      "image/png": "[encoded data removed]",
      "text/plain": [
       "<Figure size 432x288 with 1 Axes>"
      ]
     },
     "metadata": {
      "needs_background": "light"
     },
     "output_type": "display_data"
    }
   ],
   "source": [
    "sns.boxplot(y='wage-increase-second-year',data=data)"
   ]
  },
  {
   "cell_type": "code",
   "execution_count": 149,
   "metadata": {},
   "outputs": [
    {
     "data": {
      "text/plain": [
       "<matplotlib.axes._subplots.AxesSubplot at 0x2ca6ea83748>"
      ]
     },
     "execution_count": 149,
     "metadata": {},
     "output_type": "execute_result"
    },
    {
     "data": {
      "image/png": "[encoded data removed]",
      "text/plain": [
       "<Figure size 432x288 with 1 Axes>"
      ]
     },
     "metadata": {
      "needs_background": "light"
     },
     "output_type": "display_data"
    }
   ],
   "source": [
    "sns.boxplot(y='statutory-holidays',data=data)"
   ]
  },
  {
   "cell_type": "code",
   "execution_count": 150,
   "metadata": {},
   "outputs": [
    {
     "data": {
      "text/plain": [
       "<matplotlib.axes._subplots.AxesSubplot at 0x2ca6eaefdc8>"
      ]
     },
     "execution_count": 150,
     "metadata": {},
     "output_type": "execute_result"
    },
    {
     "data": {
      "image/png": "[encoded data removed]",
      "text/plain": [
       "<Figure size 432x288 with 2 Axes>"
      ]
     },
     "metadata": {
      "needs_background": "light"
     },
     "output_type": "display_data"
    }
   ],
   "source": [
    "cr=data[['wage-increase-first-year','wage-increase-second-year','working-hours','statutory-holidays']].corr()\n",
    "sns.heatmap(cr,square=True,annot=True,cmap='Dark2',linewidth=0.9)"
   ]
  },
  {
   "cell_type": "code",
   "execution_count": 151,
   "metadata": {},
   "outputs": [
    {
     "data": {
      "text/plain": [
       "<seaborn.axisgrid.PairGrid at 0x2ca6eb5d248>"
      ]
     },
     "execution_count": 151,
     "metadata": {},
     "output_type": "execute_result"
    },
    {
     "data": {
      "image/png": "[encoded data removed]",
      "text/plain": [
       "<Figure size 720x720 with 20 Axes>"
      ]
     },
     "metadata": {
      "needs_background": "light"
     },
     "output_type": "display_data"
    }
   ],
   "source": [
    "cdata=data[['wage-increase-first-year','wage-increase-second-year','working-hours','statutory-holidays']]\n",
    "sns.pairplot(cdata)"
   ]
  },
  {
   "cell_type": "code",
   "execution_count": 154,
   "metadata": {},
   "outputs": [
    {
     "data": {
      "text/plain": [
       "<matplotlib.axes._subplots.AxesSubplot at 0x2ca7076df48>"
      ]
     },
     "execution_count": 154,
     "metadata": {},
     "output_type": "execute_result"
    },
    {
     "data": {
      "image/png": "[encoded data removed]",
      "text/plain": [
       "<Figure size 432x288 with 1 Axes>"
      ]
     },
     "metadata": {
      "needs_background": "light"
     },
     "output_type": "display_data"
    }
   ],
   "source": [
    "pd.crosstab(data['cost-of-living-adjustment'],data['contribution-to-dental-plan']).plot(kind='bar',stacked=True)"
   ]
  },
  {
   "cell_type": "code",
   "execution_count": 155,
   "metadata": {},
   "outputs": [
    {
     "data": {
      "text/plain": [
       "<matplotlib.axes._subplots.AxesSubplot at 0x2ca707e5808>"
      ]
     },
     "execution_count": 155,
     "metadata": {},
     "output_type": "execute_result"
    },
    {
     "data": {
      "image/png": "[encoded data removed]",
      "text/plain": [
       "<Figure size 432x288 with 1 Axes>"
      ]
     },
     "metadata": {
      "needs_background": "light"
     },
     "output_type": "display_data"
    }
   ],
   "source": [
    "pd.crosstab(data['cost-of-living-adjustment'],data['contribution-to-health-plan']).plot(kind='bar',stacked=True)"
   ]
  },
  {
   "cell_type": "code",
   "execution_count": null,
   "metadata": {},
   "outputs": [],
   "source": []
  }
 ],
 "metadata": {
  "kernelspec": {
   "display_name": "Python 3.7.4 64-bit ('himan': virtualenv)",
   "language": "python",
   "name": "python37464bithimanvirtualenv974ad4c088be4021a9c9b796767d934c"
  },
  "language_info": {
   "codemirror_mode": {
    "name": "ipython",
    "version": 3
   },
   "file_extension": ".py",
   "mimetype": "text/x-python",
   "name": "python",
   "nbconvert_exporter": "python",
   "pygments_lexer": "ipython3",
   "version": "3.7.4"
  }
 },
 "nbformat": 4,
 "nbformat_minor": 2
}
