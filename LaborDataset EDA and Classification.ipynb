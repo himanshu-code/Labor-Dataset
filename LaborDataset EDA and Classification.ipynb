{
 "cells": [
  {
   "cell_type": "code",
   "execution_count": 1,
   "metadata": {},
   "outputs": [],
   "source": [
    "import pandas as pd\n",
    "import numpy as np\n",
    "import matplotlib.pyplot as plt\n",
    "%matplotlib inline\n",
    "import seaborn as sns"
   ]
  },
  {
   "cell_type": "code",
   "execution_count": 2,
   "metadata": {},
   "outputs": [],
   "source": [
    "data=pd.read_csv('labor.csv')"
   ]
  },
  {
   "cell_type": "markdown",
   "metadata": {},
   "source": [
    "# Variable Identification"
   ]
  },
  {
   "cell_type": "code",
   "execution_count": 3,
   "metadata": {},
   "outputs": [
    {
     "data": {
      "text/html": [
       "<div>\n",
       "<style scoped>\n",
       "    .dataframe tbody tr th:only-of-type {\n",
       "        vertical-align: middle;\n",
       "    }\n",
       "\n",
       "    .dataframe tbody tr th {\n",
       "        vertical-align: top;\n",
       "    }\n",
       "\n",
       "    .dataframe thead th {\n",
       "        text-align: right;\n",
       "    }\n",
       "</style>\n",
       "<table border=\"1\" class=\"dataframe\">\n",
       "  <thead>\n",
       "    <tr style=\"text-align: right;\">\n",
       "      <th></th>\n",
       "      <th>duration</th>\n",
       "      <th>wage-increase-first-year</th>\n",
       "      <th>wage-increase-second-year</th>\n",
       "      <th>wage-increase-third-year</th>\n",
       "      <th>cost-of-living-adjustment</th>\n",
       "      <th>working-hours</th>\n",
       "      <th>pension</th>\n",
       "      <th>standby-pay</th>\n",
       "      <th>shift-differential</th>\n",
       "      <th>education-allowance</th>\n",
       "      <th>statutory-holidays</th>\n",
       "      <th>vacation</th>\n",
       "      <th>longterm-disability-assistance</th>\n",
       "      <th>contribution-to-dental-plan</th>\n",
       "      <th>bereavement-assistance</th>\n",
       "      <th>contribution-to-health-plan</th>\n",
       "      <th>class</th>\n",
       "    </tr>\n",
       "  </thead>\n",
       "  <tbody>\n",
       "    <tr>\n",
       "      <th>0</th>\n",
       "      <td>1</td>\n",
       "      <td>5</td>\n",
       "      <td>?</td>\n",
       "      <td>?</td>\n",
       "      <td>?</td>\n",
       "      <td>40</td>\n",
       "      <td>?</td>\n",
       "      <td>?</td>\n",
       "      <td>2</td>\n",
       "      <td>?</td>\n",
       "      <td>11</td>\n",
       "      <td>average</td>\n",
       "      <td>?</td>\n",
       "      <td>?</td>\n",
       "      <td>yes</td>\n",
       "      <td>?</td>\n",
       "      <td>good</td>\n",
       "    </tr>\n",
       "    <tr>\n",
       "      <th>1</th>\n",
       "      <td>2</td>\n",
       "      <td>4.5</td>\n",
       "      <td>5.8</td>\n",
       "      <td>?</td>\n",
       "      <td>?</td>\n",
       "      <td>35</td>\n",
       "      <td>ret_allw</td>\n",
       "      <td>?</td>\n",
       "      <td>?</td>\n",
       "      <td>yes</td>\n",
       "      <td>11</td>\n",
       "      <td>below_average</td>\n",
       "      <td>?</td>\n",
       "      <td>full</td>\n",
       "      <td>?</td>\n",
       "      <td>full</td>\n",
       "      <td>good</td>\n",
       "    </tr>\n",
       "    <tr>\n",
       "      <th>2</th>\n",
       "      <td>?</td>\n",
       "      <td>?</td>\n",
       "      <td>?</td>\n",
       "      <td>?</td>\n",
       "      <td>?</td>\n",
       "      <td>38</td>\n",
       "      <td>empl_contr</td>\n",
       "      <td>?</td>\n",
       "      <td>5</td>\n",
       "      <td>?</td>\n",
       "      <td>11</td>\n",
       "      <td>generous</td>\n",
       "      <td>yes</td>\n",
       "      <td>half</td>\n",
       "      <td>yes</td>\n",
       "      <td>half</td>\n",
       "      <td>good</td>\n",
       "    </tr>\n",
       "    <tr>\n",
       "      <th>3</th>\n",
       "      <td>3</td>\n",
       "      <td>3.7</td>\n",
       "      <td>4</td>\n",
       "      <td>5</td>\n",
       "      <td>tc</td>\n",
       "      <td>?</td>\n",
       "      <td>?</td>\n",
       "      <td>?</td>\n",
       "      <td>?</td>\n",
       "      <td>yes</td>\n",
       "      <td>?</td>\n",
       "      <td>?</td>\n",
       "      <td>?</td>\n",
       "      <td>?</td>\n",
       "      <td>yes</td>\n",
       "      <td>?</td>\n",
       "      <td>good</td>\n",
       "    </tr>\n",
       "    <tr>\n",
       "      <th>4</th>\n",
       "      <td>3</td>\n",
       "      <td>4.5</td>\n",
       "      <td>4.5</td>\n",
       "      <td>5</td>\n",
       "      <td>?</td>\n",
       "      <td>40</td>\n",
       "      <td>?</td>\n",
       "      <td>?</td>\n",
       "      <td>?</td>\n",
       "      <td>?</td>\n",
       "      <td>12</td>\n",
       "      <td>average</td>\n",
       "      <td>?</td>\n",
       "      <td>half</td>\n",
       "      <td>yes</td>\n",
       "      <td>half</td>\n",
       "      <td>good</td>\n",
       "    </tr>\n",
       "  </tbody>\n",
       "</table>\n",
       "</div>"
      ],
      "text/plain": [
       "  duration wage-increase-first-year wage-increase-second-year  \\\n",
       "0        1                        5                         ?   \n",
       "1        2                      4.5                       5.8   \n",
       "2        ?                        ?                         ?   \n",
       "3        3                      3.7                         4   \n",
       "4        3                      4.5                       4.5   \n",
       "\n",
       "  wage-increase-third-year cost-of-living-adjustment working-hours  \\\n",
       "0                        ?                         ?            40   \n",
       "1                        ?                         ?            35   \n",
       "2                        ?                         ?            38   \n",
       "3                        5                        tc             ?   \n",
       "4                        5                         ?            40   \n",
       "\n",
       "      pension standby-pay shift-differential education-allowance  \\\n",
       "0           ?           ?                  2                   ?   \n",
       "1    ret_allw           ?                  ?                 yes   \n",
       "2  empl_contr           ?                  5                   ?   \n",
       "3           ?           ?                  ?                 yes   \n",
       "4           ?           ?                  ?                   ?   \n",
       "\n",
       "  statutory-holidays       vacation longterm-disability-assistance  \\\n",
       "0                 11        average                              ?   \n",
       "1                 11  below_average                              ?   \n",
       "2                 11       generous                            yes   \n",
       "3                  ?              ?                              ?   \n",
       "4                 12        average                              ?   \n",
       "\n",
       "  contribution-to-dental-plan bereavement-assistance  \\\n",
       "0                           ?                    yes   \n",
       "1                        full                      ?   \n",
       "2                        half                    yes   \n",
       "3                           ?                    yes   \n",
       "4                        half                    yes   \n",
       "\n",
       "  contribution-to-health-plan class  \n",
       "0                           ?  good  \n",
       "1                        full  good  \n",
       "2                        half  good  \n",
       "3                           ?  good  \n",
       "4                        half  good  "
      ]
     },
     "execution_count": 3,
     "metadata": {},
     "output_type": "execute_result"
    }
   ],
   "source": [
    "data.head()"
   ]
  },
  {
   "cell_type": "code",
   "execution_count": 4,
   "metadata": {},
   "outputs": [
    {
     "data": {
      "text/plain": [
       "duration                          object\n",
       "wage-increase-first-year          object\n",
       "wage-increase-second-year         object\n",
       "wage-increase-third-year          object\n",
       "cost-of-living-adjustment         object\n",
       "working-hours                     object\n",
       "pension                           object\n",
       "standby-pay                       object\n",
       "shift-differential                object\n",
       "education-allowance               object\n",
       "statutory-holidays                object\n",
       "vacation                          object\n",
       "longterm-disability-assistance    object\n",
       "contribution-to-dental-plan       object\n",
       "bereavement-assistance            object\n",
       "contribution-to-health-plan       object\n",
       "class                             object\n",
       "dtype: object"
      ]
     },
     "execution_count": 4,
     "metadata": {},
     "output_type": "execute_result"
    }
   ],
   "source": [
    "data.dtypes"
   ]
  },
  {
   "cell_type": "code",
   "execution_count": 5,
   "metadata": {},
   "outputs": [
    {
     "data": {
      "text/plain": [
       "duration                          57\n",
       "wage-increase-first-year          57\n",
       "wage-increase-second-year         57\n",
       "wage-increase-third-year          57\n",
       "cost-of-living-adjustment         57\n",
       "working-hours                     57\n",
       "pension                           57\n",
       "standby-pay                       57\n",
       "shift-differential                57\n",
       "education-allowance               57\n",
       "statutory-holidays                57\n",
       "vacation                          57\n",
       "longterm-disability-assistance    57\n",
       "contribution-to-dental-plan       57\n",
       "bereavement-assistance            57\n",
       "contribution-to-health-plan       57\n",
       "class                             57\n",
       "dtype: int64"
      ]
     },
     "execution_count": 5,
     "metadata": {},
     "output_type": "execute_result"
    }
   ],
   "source": [
    "data.count()"
   ]
  },
  {
   "cell_type": "code",
   "execution_count": 6,
   "metadata": {},
   "outputs": [
    {
     "data": {
      "text/html": [
       "<div>\n",
       "<style scoped>\n",
       "    .dataframe tbody tr th:only-of-type {\n",
       "        vertical-align: middle;\n",
       "    }\n",
       "\n",
       "    .dataframe tbody tr th {\n",
       "        vertical-align: top;\n",
       "    }\n",
       "\n",
       "    .dataframe thead th {\n",
       "        text-align: right;\n",
       "    }\n",
       "</style>\n",
       "<table border=\"1\" class=\"dataframe\">\n",
       "  <thead>\n",
       "    <tr style=\"text-align: right;\">\n",
       "      <th></th>\n",
       "      <th>duration</th>\n",
       "      <th>wage-increase-first-year</th>\n",
       "      <th>wage-increase-second-year</th>\n",
       "      <th>wage-increase-third-year</th>\n",
       "      <th>cost-of-living-adjustment</th>\n",
       "      <th>working-hours</th>\n",
       "      <th>pension</th>\n",
       "      <th>standby-pay</th>\n",
       "      <th>shift-differential</th>\n",
       "      <th>education-allowance</th>\n",
       "      <th>statutory-holidays</th>\n",
       "      <th>vacation</th>\n",
       "      <th>longterm-disability-assistance</th>\n",
       "      <th>contribution-to-dental-plan</th>\n",
       "      <th>bereavement-assistance</th>\n",
       "      <th>contribution-to-health-plan</th>\n",
       "      <th>class</th>\n",
       "    </tr>\n",
       "  </thead>\n",
       "  <tbody>\n",
       "    <tr>\n",
       "      <th>count</th>\n",
       "      <td>57</td>\n",
       "      <td>57</td>\n",
       "      <td>57</td>\n",
       "      <td>57</td>\n",
       "      <td>57</td>\n",
       "      <td>57</td>\n",
       "      <td>57</td>\n",
       "      <td>57</td>\n",
       "      <td>57</td>\n",
       "      <td>57</td>\n",
       "      <td>57</td>\n",
       "      <td>57</td>\n",
       "      <td>57</td>\n",
       "      <td>57</td>\n",
       "      <td>57</td>\n",
       "      <td>57</td>\n",
       "      <td>57</td>\n",
       "    </tr>\n",
       "    <tr>\n",
       "      <th>unique</th>\n",
       "      <td>4</td>\n",
       "      <td>18</td>\n",
       "      <td>16</td>\n",
       "      <td>10</td>\n",
       "      <td>4</td>\n",
       "      <td>9</td>\n",
       "      <td>4</td>\n",
       "      <td>8</td>\n",
       "      <td>11</td>\n",
       "      <td>3</td>\n",
       "      <td>7</td>\n",
       "      <td>4</td>\n",
       "      <td>3</td>\n",
       "      <td>4</td>\n",
       "      <td>3</td>\n",
       "      <td>4</td>\n",
       "      <td>2</td>\n",
       "    </tr>\n",
       "    <tr>\n",
       "      <th>top</th>\n",
       "      <td>2</td>\n",
       "      <td>2</td>\n",
       "      <td>4</td>\n",
       "      <td>?</td>\n",
       "      <td>none</td>\n",
       "      <td>40</td>\n",
       "      <td>?</td>\n",
       "      <td>?</td>\n",
       "      <td>?</td>\n",
       "      <td>?</td>\n",
       "      <td>11</td>\n",
       "      <td>below_average</td>\n",
       "      <td>?</td>\n",
       "      <td>?</td>\n",
       "      <td>yes</td>\n",
       "      <td>full</td>\n",
       "      <td>good</td>\n",
       "    </tr>\n",
       "    <tr>\n",
       "      <th>freq</th>\n",
       "      <td>27</td>\n",
       "      <td>10</td>\n",
       "      <td>13</td>\n",
       "      <td>42</td>\n",
       "      <td>22</td>\n",
       "      <td>23</td>\n",
       "      <td>30</td>\n",
       "      <td>48</td>\n",
       "      <td>26</td>\n",
       "      <td>35</td>\n",
       "      <td>21</td>\n",
       "      <td>18</td>\n",
       "      <td>29</td>\n",
       "      <td>20</td>\n",
       "      <td>27</td>\n",
       "      <td>20</td>\n",
       "      <td>37</td>\n",
       "    </tr>\n",
       "  </tbody>\n",
       "</table>\n",
       "</div>"
      ],
      "text/plain": [
       "       duration wage-increase-first-year wage-increase-second-year  \\\n",
       "count        57                       57                        57   \n",
       "unique        4                       18                        16   \n",
       "top           2                        2                         4   \n",
       "freq         27                       10                        13   \n",
       "\n",
       "       wage-increase-third-year cost-of-living-adjustment working-hours  \\\n",
       "count                        57                        57            57   \n",
       "unique                       10                         4             9   \n",
       "top                           ?                      none            40   \n",
       "freq                         42                        22            23   \n",
       "\n",
       "       pension standby-pay shift-differential education-allowance  \\\n",
       "count       57          57                 57                  57   \n",
       "unique       4           8                 11                   3   \n",
       "top          ?           ?                  ?                   ?   \n",
       "freq        30          48                 26                  35   \n",
       "\n",
       "       statutory-holidays       vacation longterm-disability-assistance  \\\n",
       "count                  57             57                             57   \n",
       "unique                  7              4                              3   \n",
       "top                    11  below_average                              ?   \n",
       "freq                   21             18                             29   \n",
       "\n",
       "       contribution-to-dental-plan bereavement-assistance  \\\n",
       "count                           57                     57   \n",
       "unique                           4                      3   \n",
       "top                              ?                    yes   \n",
       "freq                            20                     27   \n",
       "\n",
       "       contribution-to-health-plan class  \n",
       "count                           57    57  \n",
       "unique                           4     2  \n",
       "top                           full  good  \n",
       "freq                            20    37  "
      ]
     },
     "execution_count": 6,
     "metadata": {},
     "output_type": "execute_result"
    }
   ],
   "source": [
    "data.describe()"
   ]
  },
  {
   "cell_type": "markdown",
   "metadata": {},
   "source": [
    "# Data Cleaning\n"
   ]
  },
  {
   "cell_type": "code",
   "execution_count": 7,
   "metadata": {},
   "outputs": [
    {
     "data": {
      "text/plain": [
       "duration                           1\n",
       "wage-increase-first-year           1\n",
       "wage-increase-second-year         11\n",
       "wage-increase-third-year          42\n",
       "cost-of-living-adjustment         20\n",
       "working-hours                      6\n",
       "pension                           30\n",
       "standby-pay                       48\n",
       "shift-differential                26\n",
       "education-allowance               35\n",
       "statutory-holidays                 4\n",
       "vacation                           6\n",
       "longterm-disability-assistance    29\n",
       "contribution-to-dental-plan       20\n",
       "bereavement-assistance            27\n",
       "contribution-to-health-plan       20\n",
       "class                              0\n",
       "dtype: int64"
      ]
     },
     "execution_count": 7,
     "metadata": {},
     "output_type": "execute_result"
    }
   ],
   "source": [
    "data[data==\"?\"].count()"
   ]
  },
  {
   "cell_type": "code",
   "execution_count": 8,
   "metadata": {
    "scrolled": true
   },
   "outputs": [],
   "source": [
    "data=data.replace(to_replace =\"?\",value =0)"
   ]
  },
  {
   "cell_type": "code",
   "execution_count": 9,
   "metadata": {},
   "outputs": [],
   "source": [
    "data=data.drop(['wage-increase-third-year','pension','pension','standby-pay','shift-differential','education-allowance','longterm-disability-assistance','bereavement-assistance'],axis=1)"
   ]
  },
  {
   "cell_type": "code",
   "execution_count": 10,
   "metadata": {},
   "outputs": [
    {
     "data": {
      "text/plain": [
       "duration                       object\n",
       "wage-increase-first-year       object\n",
       "wage-increase-second-year      object\n",
       "cost-of-living-adjustment      object\n",
       "working-hours                  object\n",
       "statutory-holidays             object\n",
       "vacation                       object\n",
       "contribution-to-dental-plan    object\n",
       "contribution-to-health-plan    object\n",
       "class                          object\n",
       "dtype: object"
      ]
     },
     "execution_count": 10,
     "metadata": {},
     "output_type": "execute_result"
    }
   ],
   "source": [
    "data.dtypes"
   ]
  },
  {
   "cell_type": "code",
   "execution_count": 11,
   "metadata": {
    "scrolled": true
   },
   "outputs": [],
   "source": [
    "data[['wage-increase-first-year','wage-increase-second-year','working-hours','statutory-holidays']]=data[['wage-increase-first-year','wage-increase-second-year','working-hours','statutory-holidays']].apply(pd.to_numeric)"
   ]
  },
  {
   "cell_type": "code",
   "execution_count": 12,
   "metadata": {},
   "outputs": [
    {
     "data": {
      "text/plain": [
       "duration                        object\n",
       "wage-increase-first-year       float64\n",
       "wage-increase-second-year      float64\n",
       "cost-of-living-adjustment       object\n",
       "working-hours                    int64\n",
       "statutory-holidays               int64\n",
       "vacation                        object\n",
       "contribution-to-dental-plan     object\n",
       "contribution-to-health-plan     object\n",
       "class                           object\n",
       "dtype: object"
      ]
     },
     "execution_count": 12,
     "metadata": {},
     "output_type": "execute_result"
    }
   ],
   "source": [
    "data.dtypes"
   ]
  },
  {
   "cell_type": "code",
   "execution_count": 13,
   "metadata": {},
   "outputs": [
    {
     "data": {
      "text/html": [
       "<div>\n",
       "<style scoped>\n",
       "    .dataframe tbody tr th:only-of-type {\n",
       "        vertical-align: middle;\n",
       "    }\n",
       "\n",
       "    .dataframe tbody tr th {\n",
       "        vertical-align: top;\n",
       "    }\n",
       "\n",
       "    .dataframe thead th {\n",
       "        text-align: right;\n",
       "    }\n",
       "</style>\n",
       "<table border=\"1\" class=\"dataframe\">\n",
       "  <thead>\n",
       "    <tr style=\"text-align: right;\">\n",
       "      <th></th>\n",
       "      <th>wage-increase-first-year</th>\n",
       "      <th>wage-increase-second-year</th>\n",
       "      <th>working-hours</th>\n",
       "      <th>statutory-holidays</th>\n",
       "    </tr>\n",
       "  </thead>\n",
       "  <tbody>\n",
       "    <tr>\n",
       "      <th>count</th>\n",
       "      <td>57.000000</td>\n",
       "      <td>57.000000</td>\n",
       "      <td>57.000000</td>\n",
       "      <td>57.000000</td>\n",
       "    </tr>\n",
       "    <tr>\n",
       "      <th>mean</th>\n",
       "      <td>3.736842</td>\n",
       "      <td>3.205263</td>\n",
       "      <td>34.035088</td>\n",
       "      <td>10.315789</td>\n",
       "    </tr>\n",
       "    <tr>\n",
       "      <th>std</th>\n",
       "      <td>1.448723</td>\n",
       "      <td>1.894581</td>\n",
       "      <td>12.013333</td>\n",
       "      <td>3.106203</td>\n",
       "    </tr>\n",
       "    <tr>\n",
       "      <th>min</th>\n",
       "      <td>0.000000</td>\n",
       "      <td>0.000000</td>\n",
       "      <td>0.000000</td>\n",
       "      <td>0.000000</td>\n",
       "    </tr>\n",
       "    <tr>\n",
       "      <th>25%</th>\n",
       "      <td>2.500000</td>\n",
       "      <td>2.500000</td>\n",
       "      <td>35.000000</td>\n",
       "      <td>10.000000</td>\n",
       "    </tr>\n",
       "    <tr>\n",
       "      <th>50%</th>\n",
       "      <td>4.000000</td>\n",
       "      <td>4.000000</td>\n",
       "      <td>38.000000</td>\n",
       "      <td>11.000000</td>\n",
       "    </tr>\n",
       "    <tr>\n",
       "      <th>75%</th>\n",
       "      <td>4.500000</td>\n",
       "      <td>4.500000</td>\n",
       "      <td>40.000000</td>\n",
       "      <td>12.000000</td>\n",
       "    </tr>\n",
       "    <tr>\n",
       "      <th>max</th>\n",
       "      <td>7.000000</td>\n",
       "      <td>7.000000</td>\n",
       "      <td>40.000000</td>\n",
       "      <td>15.000000</td>\n",
       "    </tr>\n",
       "  </tbody>\n",
       "</table>\n",
       "</div>"
      ],
      "text/plain": [
       "       wage-increase-first-year  wage-increase-second-year  working-hours  \\\n",
       "count                 57.000000                  57.000000      57.000000   \n",
       "mean                   3.736842                   3.205263      34.035088   \n",
       "std                    1.448723                   1.894581      12.013333   \n",
       "min                    0.000000                   0.000000       0.000000   \n",
       "25%                    2.500000                   2.500000      35.000000   \n",
       "50%                    4.000000                   4.000000      38.000000   \n",
       "75%                    4.500000                   4.500000      40.000000   \n",
       "max                    7.000000                   7.000000      40.000000   \n",
       "\n",
       "       statutory-holidays  \n",
       "count           57.000000  \n",
       "mean            10.315789  \n",
       "std              3.106203  \n",
       "min              0.000000  \n",
       "25%             10.000000  \n",
       "50%             11.000000  \n",
       "75%             12.000000  \n",
       "max             15.000000  "
      ]
     },
     "execution_count": 13,
     "metadata": {},
     "output_type": "execute_result"
    }
   ],
   "source": [
    "data.describe()"
   ]
  },
  {
   "cell_type": "code",
   "execution_count": 14,
   "metadata": {},
   "outputs": [],
   "source": [
    "data=data.replace(0,np.nan)"
   ]
  },
  {
   "cell_type": "code",
   "execution_count": 15,
   "metadata": {},
   "outputs": [
    {
     "data": {
      "text/plain": [
       "duration                        1\n",
       "wage-increase-first-year        1\n",
       "wage-increase-second-year      11\n",
       "cost-of-living-adjustment      20\n",
       "working-hours                   6\n",
       "statutory-holidays              4\n",
       "vacation                        6\n",
       "contribution-to-dental-plan    20\n",
       "contribution-to-health-plan    20\n",
       "class                           0\n",
       "dtype: int64"
      ]
     },
     "execution_count": 15,
     "metadata": {},
     "output_type": "execute_result"
    }
   ],
   "source": [
    "data.isnull().sum()"
   ]
  },
  {
   "cell_type": "code",
   "execution_count": 16,
   "metadata": {},
   "outputs": [],
   "source": [
    "data['cost-of-living-adjustment'].fillna(method='ffill',inplace=True)"
   ]
  },
  {
   "cell_type": "code",
   "execution_count": 17,
   "metadata": {},
   "outputs": [],
   "source": [
    "data['contribution-to-dental-plan'].fillna(method='ffill',inplace=True)"
   ]
  },
  {
   "cell_type": "code",
   "execution_count": 18,
   "metadata": {},
   "outputs": [],
   "source": [
    "data['contribution-to-health-plan'].fillna(method='ffill',inplace=True)"
   ]
  },
  {
   "cell_type": "code",
   "execution_count": 19,
   "metadata": {},
   "outputs": [
    {
     "data": {
      "text/plain": [
       "duration                        1\n",
       "wage-increase-first-year        1\n",
       "wage-increase-second-year      11\n",
       "cost-of-living-adjustment       3\n",
       "working-hours                   6\n",
       "statutory-holidays              4\n",
       "vacation                        6\n",
       "contribution-to-dental-plan     1\n",
       "contribution-to-health-plan     1\n",
       "class                           0\n",
       "dtype: int64"
      ]
     },
     "execution_count": 19,
     "metadata": {},
     "output_type": "execute_result"
    }
   ],
   "source": [
    "data.isnull().sum()"
   ]
  },
  {
   "cell_type": "code",
   "execution_count": 20,
   "metadata": {},
   "outputs": [],
   "source": [
    "data.dropna(inplace=True) # dropping all the columns with null values"
   ]
  },
  {
   "cell_type": "code",
   "execution_count": 21,
   "metadata": {},
   "outputs": [
    {
     "data": {
      "text/plain": [
       "duration                       0\n",
       "wage-increase-first-year       0\n",
       "wage-increase-second-year      0\n",
       "cost-of-living-adjustment      0\n",
       "working-hours                  0\n",
       "statutory-holidays             0\n",
       "vacation                       0\n",
       "contribution-to-dental-plan    0\n",
       "contribution-to-health-plan    0\n",
       "class                          0\n",
       "dtype: int64"
      ]
     },
     "execution_count": 21,
     "metadata": {},
     "output_type": "execute_result"
    }
   ],
   "source": [
    "data.isnull().sum()"
   ]
  },
  {
   "cell_type": "markdown",
   "metadata": {},
   "source": [
    "# Visualization"
   ]
  },
  {
   "cell_type": "code",
   "execution_count": 22,
   "metadata": {},
   "outputs": [
    {
     "data": {
      "text/plain": [
       "duration                        object\n",
       "wage-increase-first-year       float64\n",
       "wage-increase-second-year      float64\n",
       "cost-of-living-adjustment       object\n",
       "working-hours                  float64\n",
       "statutory-holidays             float64\n",
       "vacation                        object\n",
       "contribution-to-dental-plan     object\n",
       "contribution-to-health-plan     object\n",
       "class                           object\n",
       "dtype: object"
      ]
     },
     "execution_count": 22,
     "metadata": {},
     "output_type": "execute_result"
    }
   ],
   "source": [
    "data.dtypes"
   ]
  },
  {
   "cell_type": "code",
   "execution_count": 23,
   "metadata": {},
   "outputs": [
    {
     "data": {
      "text/plain": [
       "<AxesSubplot:ylabel='wage-increase-first-year'>"
      ]
     },
     "execution_count": 23,
     "metadata": {},
     "output_type": "execute_result"
    },
    {
     "data": {
      "image/png": "[encoded data removed]",
      "text/plain": [
       "<Figure size 432x288 with 1 Axes>"
      ]
     },
     "metadata": {
      "needs_background": "light"
     },
     "output_type": "display_data"
    }
   ],
   "source": [
    "sns.boxplot(y='wage-increase-first-year',data=data)"
   ]
  },
  {
   "cell_type": "code",
   "execution_count": 24,
   "metadata": {},
   "outputs": [
    {
     "data": {
      "text/plain": [
       "<AxesSubplot:ylabel='wage-increase-second-year'>"
      ]
     },
     "execution_count": 24,
     "metadata": {},
     "output_type": "execute_result"
    },
    {
     "data": {
      "image/png": "[encoded data removed]",
      "text/plain": [
       "<Figure size 432x288 with 1 Axes>"
      ]
     },
     "metadata": {
      "needs_background": "light"
     },
     "output_type": "display_data"
    }
   ],
   "source": [
    "sns.boxplot(y='wage-increase-second-year',data=data)"
   ]
  },
  {
   "cell_type": "code",
   "execution_count": 25,
   "metadata": {},
   "outputs": [
    {
     "data": {
      "text/plain": [
       "<AxesSubplot:ylabel='statutory-holidays'>"
      ]
     },
     "execution_count": 25,
     "metadata": {},
     "output_type": "execute_result"
    },
    {
     "data": {
      "image/png": "[encoded data removed]",
      "text/plain": [
       "<Figure size 432x288 with 1 Axes>"
      ]
     },
     "metadata": {
      "needs_background": "light"
     },
     "output_type": "display_data"
    }
   ],
   "source": [
    "sns.boxplot(y='statutory-holidays',data=data)"
   ]
  },
  {
   "cell_type": "code",
   "execution_count": 26,
   "metadata": {},
   "outputs": [
    {
     "data": {
      "text/plain": [
       "<AxesSubplot:>"
      ]
     },
     "execution_count": 26,
     "metadata": {},
     "output_type": "execute_result"
    },
    {
     "data": {
      "image/png": "[encoded data removed]",
      "text/plain": [
       "<Figure size 432x288 with 2 Axes>"
      ]
     },
     "metadata": {
      "needs_background": "light"
     },
     "output_type": "display_data"
    }
   ],
   "source": [
    "cr=data[['wage-increase-first-year','wage-increase-second-year','working-hours','statutory-holidays']].corr()\n",
    "sns.heatmap(cr,square=True,annot=True,cmap='Dark2',linewidth=0.9)"
   ]
  },
  {
   "cell_type": "code",
   "execution_count": 27,
   "metadata": {},
   "outputs": [
    {
     "data": {
      "text/plain": [
       "<seaborn.axisgrid.PairGrid at 0x28e12535610>"
      ]
     },
     "execution_count": 27,
     "metadata": {},
     "output_type": "execute_result"
    },
    {
     "data": {
      "image/png": "[encoded data removed]",
      "text/plain": [
       "<Figure size 720x720 with 20 Axes>"
      ]
     },
     "metadata": {
      "needs_background": "light"
     },
     "output_type": "display_data"
    }
   ],
   "source": [
    "cdata=data[['wage-increase-first-year','wage-increase-second-year','working-hours','statutory-holidays']]\n",
    "sns.pairplot(cdata)"
   ]
  },
  {
   "cell_type": "code",
   "execution_count": 28,
   "metadata": {},
   "outputs": [
    {
     "data": {
      "text/plain": [
       "<AxesSubplot:xlabel='cost-of-living-adjustment'>"
      ]
     },
     "execution_count": 28,
     "metadata": {},
     "output_type": "execute_result"
    },
    {
     "data": {
      "image/png": "[encoded data removed]",
      "text/plain": [
       "<Figure size 432x288 with 1 Axes>"
      ]
     },
     "metadata": {
      "needs_background": "light"
     },
     "output_type": "display_data"
    }
   ],
   "source": [
    "pd.crosstab(data['cost-of-living-adjustment'],data['contribution-to-dental-plan']).plot(kind='bar',stacked=True)"
   ]
  },
  {
   "cell_type": "code",
   "execution_count": 29,
   "metadata": {},
   "outputs": [
    {
     "data": {
      "text/plain": [
       "<AxesSubplot:xlabel='cost-of-living-adjustment'>"
      ]
     },
     "execution_count": 29,
     "metadata": {},
     "output_type": "execute_result"
    },
    {
     "data": {
      "image/png": "[encoded data removed]",
      "text/plain": [
       "<Figure size 432x288 with 1 Axes>"
      ]
     },
     "metadata": {
      "needs_background": "light"
     },
     "output_type": "display_data"
    }
   ],
   "source": [
    "pd.crosstab(data['cost-of-living-adjustment'],data['contribution-to-health-plan']).plot(kind='bar',stacked=True)"
   ]
  },
  {
   "cell_type": "code",
   "execution_count": 64,
   "metadata": {},
   "outputs": [
    {
     "data": {
      "text/html": [
       "<div>\n",
       "<style scoped>\n",
       "    .dataframe tbody tr th:only-of-type {\n",
       "        vertical-align: middle;\n",
       "    }\n",
       "\n",
       "    .dataframe tbody tr th {\n",
       "        vertical-align: top;\n",
       "    }\n",
       "\n",
       "    .dataframe thead th {\n",
       "        text-align: right;\n",
       "    }\n",
       "</style>\n",
       "<table border=\"1\" class=\"dataframe\">\n",
       "  <thead>\n",
       "    <tr style=\"text-align: right;\">\n",
       "      <th></th>\n",
       "      <th>duration</th>\n",
       "      <th>wage-increase-first-year</th>\n",
       "      <th>wage-increase-second-year</th>\n",
       "      <th>cost-of-living-adjustment</th>\n",
       "      <th>working-hours</th>\n",
       "      <th>statutory-holidays</th>\n",
       "      <th>vacation</th>\n",
       "      <th>contribution-to-dental-plan</th>\n",
       "      <th>contribution-to-health-plan</th>\n",
       "      <th>class</th>\n",
       "    </tr>\n",
       "  </thead>\n",
       "  <tbody>\n",
       "    <tr>\n",
       "      <th>4</th>\n",
       "      <td>3</td>\n",
       "      <td>4.5</td>\n",
       "      <td>4.5</td>\n",
       "      <td>tc</td>\n",
       "      <td>40.0</td>\n",
       "      <td>12.0</td>\n",
       "      <td>average</td>\n",
       "      <td>half</td>\n",
       "      <td>half</td>\n",
       "      <td>good</td>\n",
       "    </tr>\n",
       "    <tr>\n",
       "      <th>5</th>\n",
       "      <td>2</td>\n",
       "      <td>2.0</td>\n",
       "      <td>2.5</td>\n",
       "      <td>tc</td>\n",
       "      <td>35.0</td>\n",
       "      <td>12.0</td>\n",
       "      <td>average</td>\n",
       "      <td>half</td>\n",
       "      <td>half</td>\n",
       "      <td>good</td>\n",
       "    </tr>\n",
       "    <tr>\n",
       "      <th>7</th>\n",
       "      <td>3</td>\n",
       "      <td>6.9</td>\n",
       "      <td>4.8</td>\n",
       "      <td>tc</td>\n",
       "      <td>40.0</td>\n",
       "      <td>12.0</td>\n",
       "      <td>below_average</td>\n",
       "      <td>none</td>\n",
       "      <td>half</td>\n",
       "      <td>good</td>\n",
       "    </tr>\n",
       "    <tr>\n",
       "      <th>8</th>\n",
       "      <td>2</td>\n",
       "      <td>3.0</td>\n",
       "      <td>7.0</td>\n",
       "      <td>tc</td>\n",
       "      <td>38.0</td>\n",
       "      <td>11.0</td>\n",
       "      <td>below_average</td>\n",
       "      <td>half</td>\n",
       "      <td>half</td>\n",
       "      <td>good</td>\n",
       "    </tr>\n",
       "    <tr>\n",
       "      <th>10</th>\n",
       "      <td>3</td>\n",
       "      <td>3.5</td>\n",
       "      <td>4.0</td>\n",
       "      <td>none</td>\n",
       "      <td>36.0</td>\n",
       "      <td>13.0</td>\n",
       "      <td>generous</td>\n",
       "      <td>full</td>\n",
       "      <td>full</td>\n",
       "      <td>good</td>\n",
       "    </tr>\n",
       "  </tbody>\n",
       "</table>\n",
       "</div>"
      ],
      "text/plain": [
       "   duration  wage-increase-first-year  wage-increase-second-year  \\\n",
       "4         3                       4.5                        4.5   \n",
       "5         2                       2.0                        2.5   \n",
       "7         3                       6.9                        4.8   \n",
       "8         2                       3.0                        7.0   \n",
       "10        3                       3.5                        4.0   \n",
       "\n",
       "   cost-of-living-adjustment  working-hours  statutory-holidays  \\\n",
       "4                         tc           40.0                12.0   \n",
       "5                         tc           35.0                12.0   \n",
       "7                         tc           40.0                12.0   \n",
       "8                         tc           38.0                11.0   \n",
       "10                      none           36.0                13.0   \n",
       "\n",
       "         vacation contribution-to-dental-plan contribution-to-health-plan  \\\n",
       "4         average                        half                        half   \n",
       "5         average                        half                        half   \n",
       "7   below_average                        none                        half   \n",
       "8   below_average                        half                        half   \n",
       "10       generous                        full                        full   \n",
       "\n",
       "   class  \n",
       "4   good  \n",
       "5   good  \n",
       "7   good  \n",
       "8   good  \n",
       "10  good  "
      ]
     },
     "execution_count": 64,
     "metadata": {},
     "output_type": "execute_result"
    }
   ],
   "source": [
    "data.head()\n"
   ]
  },
  {
   "cell_type": "markdown",
   "metadata": {},
   "source": [
    "# Dummy variable creation"
   ]
  },
  {
   "cell_type": "code",
   "execution_count": 30,
   "metadata": {},
   "outputs": [
    {
     "data": {
      "text/plain": [
       "duration                        True\n",
       "wage-increase-first-year       False\n",
       "wage-increase-second-year      False\n",
       "cost-of-living-adjustment       True\n",
       "working-hours                  False\n",
       "statutory-holidays             False\n",
       "vacation                        True\n",
       "contribution-to-dental-plan     True\n",
       "contribution-to-health-plan     True\n",
       "dtype: bool"
      ]
     },
     "execution_count": 30,
     "metadata": {},
     "output_type": "execute_result"
    }
   ],
   "source": [
    "obj=data.iloc[:,:9].dtypes== np.object\n",
    "obj"
   ]
  },
  {
   "cell_type": "code",
   "execution_count": 31,
   "metadata": {},
   "outputs": [],
   "source": [
    "obj=['cost-of-living-adjustment','vacation','contribution-to-dental-plan','contribution-to-health-plan']\n"
   ]
  },
  {
   "cell_type": "code",
   "execution_count": 32,
   "metadata": {},
   "outputs": [
    {
     "name": "stdout",
     "output_type": "stream",
     "text": [
      "    tc  tcf  below_average  generous  half  none  half  none\n",
      "4    1    0              0         0     1     0     1     0\n",
      "5    1    0              0         0     1     0     1     0\n",
      "7    1    0              1         0     0     1     1     0\n",
      "8    1    0              1         0     1     0     1     0\n",
      "10   0    0              0         1     0     0     0     0\n",
      "12   0    0              1         0     1     0     1     0\n",
      "13   0    1              0         1     0     0     0     0\n",
      "15   0    0              0         0     0     0     0     0\n",
      "19   0    1              0         1     0     1     0     1\n",
      "20   0    1              0         1     0     0     0     0\n",
      "21   0    1              1         0     0     0     0     0\n",
      "23   0    1              0         1     1     0     0     0\n",
      "25   0    0              1         0     1     0     0     0\n",
      "27   0    0              0         1     0     1     0     0\n",
      "28   0    0              1         0     0     0     0     0\n",
      "29   0    0              0         0     0     0     0     0\n",
      "30   0    0              0         0     1     0     0     0\n",
      "31   1    0              1         0     1     0     0     0\n",
      "32   1    0              0         0     1     0     0     0\n",
      "33   0    0              1         0     0     1     0     1\n",
      "34   1    0              1         0     1     0     0     0\n",
      "35   0    0              0         0     0     1     0     0\n",
      "38   0    0              0         0     1     0     0     1\n",
      "39   0    0              0         0     0     0     1     0\n",
      "41   0    0              0         1     0     1     0     0\n",
      "42   1    0              0         0     0     1     0     0\n",
      "43   0    1              1         0     0     1     0     0\n",
      "44   0    0              1         0     0     1     0     1\n",
      "45   0    0              1         0     1     0     1     0\n",
      "46   0    0              0         0     0     0     0     0\n",
      "48   0    0              1         0     1     0     0     0\n",
      "49   0    0              0         0     0     0     0     0\n",
      "52   0    1              0         1     1     0     0     0\n",
      "53   0    0              0         0     0     0     0     0\n",
      "54   0    0              0         1     0     0     0     0\n",
      "55   0    0              0         0     1     0     1     0\n",
      "56   0    0              0         1     0     0     0     0\n"
     ]
    }
   ],
   "source": [
    "dummydf=pd.DataFrame()\n",
    "for i in obj:\n",
    "    dummy=pd.get_dummies(data[i],drop_first=True )\n",
    "    dummydf=pd.concat([dummydf, dummy], axis=1) \n",
    "print(dummydf)\n"
   ]
  },
  {
   "cell_type": "code",
   "execution_count": 33,
   "metadata": {
    "scrolled": true
   },
   "outputs": [
    {
     "data": {
      "text/html": [
       "<div>\n",
       "<style scoped>\n",
       "    .dataframe tbody tr th:only-of-type {\n",
       "        vertical-align: middle;\n",
       "    }\n",
       "\n",
       "    .dataframe tbody tr th {\n",
       "        vertical-align: top;\n",
       "    }\n",
       "\n",
       "    .dataframe thead th {\n",
       "        text-align: right;\n",
       "    }\n",
       "</style>\n",
       "<table border=\"1\" class=\"dataframe\">\n",
       "  <thead>\n",
       "    <tr style=\"text-align: right;\">\n",
       "      <th></th>\n",
       "      <th>duration</th>\n",
       "      <th>wage-increase-first-year</th>\n",
       "      <th>wage-increase-second-year</th>\n",
       "      <th>cost-of-living-adjustment</th>\n",
       "      <th>working-hours</th>\n",
       "      <th>statutory-holidays</th>\n",
       "      <th>vacation</th>\n",
       "      <th>contribution-to-dental-plan</th>\n",
       "      <th>contribution-to-health-plan</th>\n",
       "      <th>class</th>\n",
       "      <th>tc</th>\n",
       "      <th>tcf</th>\n",
       "      <th>below_average</th>\n",
       "      <th>generous</th>\n",
       "      <th>half</th>\n",
       "      <th>none</th>\n",
       "      <th>half</th>\n",
       "      <th>none</th>\n",
       "    </tr>\n",
       "  </thead>\n",
       "  <tbody>\n",
       "    <tr>\n",
       "      <th>4</th>\n",
       "      <td>3</td>\n",
       "      <td>4.5</td>\n",
       "      <td>4.5</td>\n",
       "      <td>tc</td>\n",
       "      <td>40.0</td>\n",
       "      <td>12.0</td>\n",
       "      <td>average</td>\n",
       "      <td>half</td>\n",
       "      <td>half</td>\n",
       "      <td>good</td>\n",
       "      <td>1</td>\n",
       "      <td>0</td>\n",
       "      <td>0</td>\n",
       "      <td>0</td>\n",
       "      <td>1</td>\n",
       "      <td>0</td>\n",
       "      <td>1</td>\n",
       "      <td>0</td>\n",
       "    </tr>\n",
       "    <tr>\n",
       "      <th>5</th>\n",
       "      <td>2</td>\n",
       "      <td>2.0</td>\n",
       "      <td>2.5</td>\n",
       "      <td>tc</td>\n",
       "      <td>35.0</td>\n",
       "      <td>12.0</td>\n",
       "      <td>average</td>\n",
       "      <td>half</td>\n",
       "      <td>half</td>\n",
       "      <td>good</td>\n",
       "      <td>1</td>\n",
       "      <td>0</td>\n",
       "      <td>0</td>\n",
       "      <td>0</td>\n",
       "      <td>1</td>\n",
       "      <td>0</td>\n",
       "      <td>1</td>\n",
       "      <td>0</td>\n",
       "    </tr>\n",
       "    <tr>\n",
       "      <th>7</th>\n",
       "      <td>3</td>\n",
       "      <td>6.9</td>\n",
       "      <td>4.8</td>\n",
       "      <td>tc</td>\n",
       "      <td>40.0</td>\n",
       "      <td>12.0</td>\n",
       "      <td>below_average</td>\n",
       "      <td>none</td>\n",
       "      <td>half</td>\n",
       "      <td>good</td>\n",
       "      <td>1</td>\n",
       "      <td>0</td>\n",
       "      <td>1</td>\n",
       "      <td>0</td>\n",
       "      <td>0</td>\n",
       "      <td>1</td>\n",
       "      <td>1</td>\n",
       "      <td>0</td>\n",
       "    </tr>\n",
       "    <tr>\n",
       "      <th>8</th>\n",
       "      <td>2</td>\n",
       "      <td>3.0</td>\n",
       "      <td>7.0</td>\n",
       "      <td>tc</td>\n",
       "      <td>38.0</td>\n",
       "      <td>11.0</td>\n",
       "      <td>below_average</td>\n",
       "      <td>half</td>\n",
       "      <td>half</td>\n",
       "      <td>good</td>\n",
       "      <td>1</td>\n",
       "      <td>0</td>\n",
       "      <td>1</td>\n",
       "      <td>0</td>\n",
       "      <td>1</td>\n",
       "      <td>0</td>\n",
       "      <td>1</td>\n",
       "      <td>0</td>\n",
       "    </tr>\n",
       "    <tr>\n",
       "      <th>10</th>\n",
       "      <td>3</td>\n",
       "      <td>3.5</td>\n",
       "      <td>4.0</td>\n",
       "      <td>none</td>\n",
       "      <td>36.0</td>\n",
       "      <td>13.0</td>\n",
       "      <td>generous</td>\n",
       "      <td>full</td>\n",
       "      <td>full</td>\n",
       "      <td>good</td>\n",
       "      <td>0</td>\n",
       "      <td>0</td>\n",
       "      <td>0</td>\n",
       "      <td>1</td>\n",
       "      <td>0</td>\n",
       "      <td>0</td>\n",
       "      <td>0</td>\n",
       "      <td>0</td>\n",
       "    </tr>\n",
       "  </tbody>\n",
       "</table>\n",
       "</div>"
      ],
      "text/plain": [
       "   duration  wage-increase-first-year  wage-increase-second-year  \\\n",
       "4         3                       4.5                        4.5   \n",
       "5         2                       2.0                        2.5   \n",
       "7         3                       6.9                        4.8   \n",
       "8         2                       3.0                        7.0   \n",
       "10        3                       3.5                        4.0   \n",
       "\n",
       "   cost-of-living-adjustment  working-hours  statutory-holidays  \\\n",
       "4                         tc           40.0                12.0   \n",
       "5                         tc           35.0                12.0   \n",
       "7                         tc           40.0                12.0   \n",
       "8                         tc           38.0                11.0   \n",
       "10                      none           36.0                13.0   \n",
       "\n",
       "         vacation contribution-to-dental-plan contribution-to-health-plan  \\\n",
       "4         average                        half                        half   \n",
       "5         average                        half                        half   \n",
       "7   below_average                        none                        half   \n",
       "8   below_average                        half                        half   \n",
       "10       generous                        full                        full   \n",
       "\n",
       "   class  tc  tcf  below_average  generous  half  none  half  none  \n",
       "4   good   1    0              0         0     1     0     1     0  \n",
       "5   good   1    0              0         0     1     0     1     0  \n",
       "7   good   1    0              1         0     0     1     1     0  \n",
       "8   good   1    0              1         0     1     0     1     0  \n",
       "10  good   0    0              0         1     0     0     0     0  "
      ]
     },
     "execution_count": 33,
     "metadata": {},
     "output_type": "execute_result"
    }
   ],
   "source": [
    "data1=pd.concat([data,dummydf],axis=1)\n",
    "data1.head()"
   ]
  },
  {
   "cell_type": "code",
   "execution_count": 34,
   "metadata": {},
   "outputs": [
    {
     "data": {
      "text/html": [
       "<div>\n",
       "<style scoped>\n",
       "    .dataframe tbody tr th:only-of-type {\n",
       "        vertical-align: middle;\n",
       "    }\n",
       "\n",
       "    .dataframe tbody tr th {\n",
       "        vertical-align: top;\n",
       "    }\n",
       "\n",
       "    .dataframe thead th {\n",
       "        text-align: right;\n",
       "    }\n",
       "</style>\n",
       "<table border=\"1\" class=\"dataframe\">\n",
       "  <thead>\n",
       "    <tr style=\"text-align: right;\">\n",
       "      <th></th>\n",
       "      <th>duration</th>\n",
       "      <th>wage-increase-first-year</th>\n",
       "      <th>wage-increase-second-year</th>\n",
       "      <th>working-hours</th>\n",
       "      <th>statutory-holidays</th>\n",
       "      <th>class</th>\n",
       "      <th>tc</th>\n",
       "      <th>tcf</th>\n",
       "      <th>below_average</th>\n",
       "      <th>generous</th>\n",
       "      <th>half</th>\n",
       "      <th>none</th>\n",
       "      <th>half</th>\n",
       "      <th>none</th>\n",
       "    </tr>\n",
       "  </thead>\n",
       "  <tbody>\n",
       "    <tr>\n",
       "      <th>4</th>\n",
       "      <td>3</td>\n",
       "      <td>4.5</td>\n",
       "      <td>4.5</td>\n",
       "      <td>40.0</td>\n",
       "      <td>12.0</td>\n",
       "      <td>good</td>\n",
       "      <td>1</td>\n",
       "      <td>0</td>\n",
       "      <td>0</td>\n",
       "      <td>0</td>\n",
       "      <td>1</td>\n",
       "      <td>0</td>\n",
       "      <td>1</td>\n",
       "      <td>0</td>\n",
       "    </tr>\n",
       "    <tr>\n",
       "      <th>5</th>\n",
       "      <td>2</td>\n",
       "      <td>2.0</td>\n",
       "      <td>2.5</td>\n",
       "      <td>35.0</td>\n",
       "      <td>12.0</td>\n",
       "      <td>good</td>\n",
       "      <td>1</td>\n",
       "      <td>0</td>\n",
       "      <td>0</td>\n",
       "      <td>0</td>\n",
       "      <td>1</td>\n",
       "      <td>0</td>\n",
       "      <td>1</td>\n",
       "      <td>0</td>\n",
       "    </tr>\n",
       "    <tr>\n",
       "      <th>7</th>\n",
       "      <td>3</td>\n",
       "      <td>6.9</td>\n",
       "      <td>4.8</td>\n",
       "      <td>40.0</td>\n",
       "      <td>12.0</td>\n",
       "      <td>good</td>\n",
       "      <td>1</td>\n",
       "      <td>0</td>\n",
       "      <td>1</td>\n",
       "      <td>0</td>\n",
       "      <td>0</td>\n",
       "      <td>1</td>\n",
       "      <td>1</td>\n",
       "      <td>0</td>\n",
       "    </tr>\n",
       "    <tr>\n",
       "      <th>8</th>\n",
       "      <td>2</td>\n",
       "      <td>3.0</td>\n",
       "      <td>7.0</td>\n",
       "      <td>38.0</td>\n",
       "      <td>11.0</td>\n",
       "      <td>good</td>\n",
       "      <td>1</td>\n",
       "      <td>0</td>\n",
       "      <td>1</td>\n",
       "      <td>0</td>\n",
       "      <td>1</td>\n",
       "      <td>0</td>\n",
       "      <td>1</td>\n",
       "      <td>0</td>\n",
       "    </tr>\n",
       "    <tr>\n",
       "      <th>10</th>\n",
       "      <td>3</td>\n",
       "      <td>3.5</td>\n",
       "      <td>4.0</td>\n",
       "      <td>36.0</td>\n",
       "      <td>13.0</td>\n",
       "      <td>good</td>\n",
       "      <td>0</td>\n",
       "      <td>0</td>\n",
       "      <td>0</td>\n",
       "      <td>1</td>\n",
       "      <td>0</td>\n",
       "      <td>0</td>\n",
       "      <td>0</td>\n",
       "      <td>0</td>\n",
       "    </tr>\n",
       "  </tbody>\n",
       "</table>\n",
       "</div>"
      ],
      "text/plain": [
       "   duration  wage-increase-first-year  wage-increase-second-year  \\\n",
       "4         3                       4.5                        4.5   \n",
       "5         2                       2.0                        2.5   \n",
       "7         3                       6.9                        4.8   \n",
       "8         2                       3.0                        7.0   \n",
       "10        3                       3.5                        4.0   \n",
       "\n",
       "    working-hours  statutory-holidays class  tc  tcf  below_average  generous  \\\n",
       "4            40.0                12.0  good   1    0              0         0   \n",
       "5            35.0                12.0  good   1    0              0         0   \n",
       "7            40.0                12.0  good   1    0              1         0   \n",
       "8            38.0                11.0  good   1    0              1         0   \n",
       "10           36.0                13.0  good   0    0              0         1   \n",
       "\n",
       "    half  none  half  none  \n",
       "4      1     0     1     0  \n",
       "5      1     0     1     0  \n",
       "7      0     1     1     0  \n",
       "8      1     0     1     0  \n",
       "10     0     0     0     0  "
      ]
     },
     "execution_count": 34,
     "metadata": {},
     "output_type": "execute_result"
    }
   ],
   "source": [
    "data1.drop(obj,axis=1,inplace=True)\n",
    "data1.head()"
   ]
  },
  {
   "cell_type": "markdown",
   "metadata": {},
   "source": [
    "# Decision Tree on Labor Dataset"
   ]
  },
  {
   "cell_type": "code",
   "execution_count": 35,
   "metadata": {},
   "outputs": [
    {
     "data": {
      "text/html": [
       "<div>\n",
       "<style scoped>\n",
       "    .dataframe tbody tr th:only-of-type {\n",
       "        vertical-align: middle;\n",
       "    }\n",
       "\n",
       "    .dataframe tbody tr th {\n",
       "        vertical-align: top;\n",
       "    }\n",
       "\n",
       "    .dataframe thead th {\n",
       "        text-align: right;\n",
       "    }\n",
       "</style>\n",
       "<table border=\"1\" class=\"dataframe\">\n",
       "  <thead>\n",
       "    <tr style=\"text-align: right;\">\n",
       "      <th></th>\n",
       "      <th>duration</th>\n",
       "      <th>wage-increase-first-year</th>\n",
       "      <th>wage-increase-second-year</th>\n",
       "      <th>working-hours</th>\n",
       "      <th>statutory-holidays</th>\n",
       "      <th>class</th>\n",
       "      <th>tc</th>\n",
       "      <th>tcf</th>\n",
       "      <th>below_average</th>\n",
       "      <th>generous</th>\n",
       "      <th>half</th>\n",
       "      <th>none</th>\n",
       "      <th>half</th>\n",
       "      <th>none</th>\n",
       "    </tr>\n",
       "  </thead>\n",
       "  <tbody>\n",
       "    <tr>\n",
       "      <th>4</th>\n",
       "      <td>3</td>\n",
       "      <td>4.5</td>\n",
       "      <td>4.5</td>\n",
       "      <td>40.0</td>\n",
       "      <td>12.0</td>\n",
       "      <td>good</td>\n",
       "      <td>1</td>\n",
       "      <td>0</td>\n",
       "      <td>0</td>\n",
       "      <td>0</td>\n",
       "      <td>1</td>\n",
       "      <td>0</td>\n",
       "      <td>1</td>\n",
       "      <td>0</td>\n",
       "    </tr>\n",
       "    <tr>\n",
       "      <th>5</th>\n",
       "      <td>2</td>\n",
       "      <td>2.0</td>\n",
       "      <td>2.5</td>\n",
       "      <td>35.0</td>\n",
       "      <td>12.0</td>\n",
       "      <td>good</td>\n",
       "      <td>1</td>\n",
       "      <td>0</td>\n",
       "      <td>0</td>\n",
       "      <td>0</td>\n",
       "      <td>1</td>\n",
       "      <td>0</td>\n",
       "      <td>1</td>\n",
       "      <td>0</td>\n",
       "    </tr>\n",
       "    <tr>\n",
       "      <th>7</th>\n",
       "      <td>3</td>\n",
       "      <td>6.9</td>\n",
       "      <td>4.8</td>\n",
       "      <td>40.0</td>\n",
       "      <td>12.0</td>\n",
       "      <td>good</td>\n",
       "      <td>1</td>\n",
       "      <td>0</td>\n",
       "      <td>1</td>\n",
       "      <td>0</td>\n",
       "      <td>0</td>\n",
       "      <td>1</td>\n",
       "      <td>1</td>\n",
       "      <td>0</td>\n",
       "    </tr>\n",
       "    <tr>\n",
       "      <th>8</th>\n",
       "      <td>2</td>\n",
       "      <td>3.0</td>\n",
       "      <td>7.0</td>\n",
       "      <td>38.0</td>\n",
       "      <td>11.0</td>\n",
       "      <td>good</td>\n",
       "      <td>1</td>\n",
       "      <td>0</td>\n",
       "      <td>1</td>\n",
       "      <td>0</td>\n",
       "      <td>1</td>\n",
       "      <td>0</td>\n",
       "      <td>1</td>\n",
       "      <td>0</td>\n",
       "    </tr>\n",
       "    <tr>\n",
       "      <th>10</th>\n",
       "      <td>3</td>\n",
       "      <td>3.5</td>\n",
       "      <td>4.0</td>\n",
       "      <td>36.0</td>\n",
       "      <td>13.0</td>\n",
       "      <td>good</td>\n",
       "      <td>0</td>\n",
       "      <td>0</td>\n",
       "      <td>0</td>\n",
       "      <td>1</td>\n",
       "      <td>0</td>\n",
       "      <td>0</td>\n",
       "      <td>0</td>\n",
       "      <td>0</td>\n",
       "    </tr>\n",
       "  </tbody>\n",
       "</table>\n",
       "</div>"
      ],
      "text/plain": [
       "   duration  wage-increase-first-year  wage-increase-second-year  \\\n",
       "4         3                       4.5                        4.5   \n",
       "5         2                       2.0                        2.5   \n",
       "7         3                       6.9                        4.8   \n",
       "8         2                       3.0                        7.0   \n",
       "10        3                       3.5                        4.0   \n",
       "\n",
       "    working-hours  statutory-holidays class  tc  tcf  below_average  generous  \\\n",
       "4            40.0                12.0  good   1    0              0         0   \n",
       "5            35.0                12.0  good   1    0              0         0   \n",
       "7            40.0                12.0  good   1    0              1         0   \n",
       "8            38.0                11.0  good   1    0              1         0   \n",
       "10           36.0                13.0  good   0    0              0         1   \n",
       "\n",
       "    half  none  half  none  \n",
       "4      1     0     1     0  \n",
       "5      1     0     1     0  \n",
       "7      0     1     1     0  \n",
       "8      1     0     1     0  \n",
       "10     0     0     0     0  "
      ]
     },
     "execution_count": 35,
     "metadata": {},
     "output_type": "execute_result"
    }
   ],
   "source": [
    "data1.head()"
   ]
  },
  {
   "cell_type": "code",
   "execution_count": 56,
   "metadata": {},
   "outputs": [
    {
     "data": {
      "text/plain": [
       "(37, 13)"
      ]
     },
     "execution_count": 56,
     "metadata": {},
     "output_type": "execute_result"
    }
   ],
   "source": [
    "X=data1.iloc[:,[0,1,2,3,4,6,7,8,9,10,11,12,13]].values\n",
    "X.shape"
   ]
  },
  {
   "cell_type": "code",
   "execution_count": 37,
   "metadata": {},
   "outputs": [
    {
     "data": {
      "text/plain": [
       "(37, 1)"
      ]
     },
     "execution_count": 37,
     "metadata": {},
     "output_type": "execute_result"
    }
   ],
   "source": [
    "y=data1.iloc[:,[5]]\n",
    "y.shape"
   ]
  },
  {
   "cell_type": "code",
   "execution_count": 38,
   "metadata": {},
   "outputs": [],
   "source": [
    "from sklearn.model_selection import train_test_split\n",
    "X_train,X_test,y_train,y_test=train_test_split(X,y,test_size=0.3,random_state=0)"
   ]
  },
  {
   "cell_type": "code",
   "execution_count": 39,
   "metadata": {},
   "outputs": [],
   "source": [
    "from sklearn.tree import DecisionTreeClassifier"
   ]
  },
  {
   "cell_type": "markdown",
   "metadata": {},
   "source": [
    "# Decision tree by using Gini Index"
   ]
  },
  {
   "cell_type": "code",
   "execution_count": 40,
   "metadata": {},
   "outputs": [],
   "source": [
    "clf=DecisionTreeClassifier(criterion='gini')"
   ]
  },
  {
   "cell_type": "code",
   "execution_count": 41,
   "metadata": {},
   "outputs": [],
   "source": [
    "clf=clf.fit(X_train,y_train)"
   ]
  },
  {
   "cell_type": "code",
   "execution_count": 42,
   "metadata": {},
   "outputs": [
    {
     "data": {
      "text/plain": [
       "array(['bad', 'bad', 'good', 'bad', 'good', 'bad', 'bad', 'good', 'good',\n",
       "       'good', 'good', 'good'], dtype=object)"
      ]
     },
     "execution_count": 42,
     "metadata": {},
     "output_type": "execute_result"
    }
   ],
   "source": [
    "y_pred=clf.predict(X_test)\n",
    "y_pred"
   ]
  },
  {
   "cell_type": "code",
   "execution_count": 43,
   "metadata": {},
   "outputs": [
    {
     "name": "stdout",
     "output_type": "stream",
     "text": [
      "Accuracy 91.67\n"
     ]
    }
   ],
   "source": [
    "from sklearn import metrics\n",
    "print(\"Accuracy\",round(metrics.accuracy_score(y_test,y_pred)*100,2))"
   ]
  },
  {
   "cell_type": "code",
   "execution_count": 44,
   "metadata": {},
   "outputs": [
    {
     "data": {
      "text/plain": [
       "array([[5, 1],\n",
       "       [0, 6]], dtype=int64)"
      ]
     },
     "execution_count": 44,
     "metadata": {},
     "output_type": "execute_result"
    }
   ],
   "source": [
    "from sklearn.metrics import confusion_matrix\n",
    "cm=confusion_matrix(y_test,y_pred)\n",
    "cm"
   ]
  },
  {
   "cell_type": "code",
   "execution_count": 60,
   "metadata": {},
   "outputs": [
    {
     "data": {
      "image/png": "[encoded data removed]",
      "text/plain": [
       "<IPython.core.display.Image object>"
      ]
     },
     "execution_count": 60,
     "metadata": {
      "image/png": {
       "height": 12000,
       "width": 12000
      }
     },
     "output_type": "execute_result"
    }
   ],
   "source": [
    "feature_cols=['duration','wage-increase-first-year','wage-increase-second-year','working-hours','statutory-holidays','tc','tcf','below_average','generous','half','none','half','none']\n",
    "from six import StringIO\n",
    "from IPython.display import Image\n",
    "from sklearn.tree import export_graphviz\n",
    "import pydotplus\n",
    "dot_data = StringIO()\n",
    "export_graphviz(clf, out_file=dot_data,filled=True, rounded=True,special_characters=True,feature_names=feature_cols)\n",
    "graph = pydotplus.graph_from_dot_data(dot_data.getvalue())\n",
    "Image(graph.create_png(), width=12000, height=12000)"
   ]
  },
  {
   "cell_type": "markdown",
   "metadata": {},
   "source": [
    "# Decision Tree Using Information Gain"
   ]
  },
  {
   "cell_type": "code",
   "execution_count": 46,
   "metadata": {},
   "outputs": [],
   "source": [
    "clf1=DecisionTreeClassifier(criterion='entropy')"
   ]
  },
  {
   "cell_type": "code",
   "execution_count": 47,
   "metadata": {},
   "outputs": [],
   "source": [
    "clf1=clf1.fit(X_train,y_train)"
   ]
  },
  {
   "cell_type": "code",
   "execution_count": 48,
   "metadata": {},
   "outputs": [
    {
     "data": {
      "text/plain": [
       "array(['good', 'bad', 'good', 'bad', 'good', 'good', 'good', 'good',\n",
       "       'good', 'bad', 'good', 'good'], dtype=object)"
      ]
     },
     "execution_count": 48,
     "metadata": {},
     "output_type": "execute_result"
    }
   ],
   "source": [
    "y_pred1=clf1.predict(X_test)\n",
    "y_pred1"
   ]
  },
  {
   "cell_type": "code",
   "execution_count": 49,
   "metadata": {},
   "outputs": [
    {
     "name": "stdout",
     "output_type": "stream",
     "text": [
      "Accuracy 75.0\n"
     ]
    }
   ],
   "source": [
    "print(\"Accuracy\",round(metrics.accuracy_score(y_test,y_pred1)*100,2))"
   ]
  },
  {
   "cell_type": "code",
   "execution_count": 50,
   "metadata": {},
   "outputs": [
    {
     "data": {
      "text/plain": [
       "array([[3, 3],\n",
       "       [0, 6]], dtype=int64)"
      ]
     },
     "execution_count": 50,
     "metadata": {},
     "output_type": "execute_result"
    }
   ],
   "source": [
    "from sklearn.metrics import confusion_matrix\n",
    "cm=confusion_matrix(y_test,y_pred1)\n",
    "cm"
   ]
  },
  {
   "cell_type": "code",
   "execution_count": 61,
   "metadata": {},
   "outputs": [
    {
     "data": {
      "image/png": "[encoded data removed]",
      "text/plain": [
       "<IPython.core.display.Image object>"
      ]
     },
     "execution_count": 61,
     "metadata": {
      "image/png": {
       "height": 12000,
       "width": 12000
      }
     },
     "output_type": "execute_result"
    }
   ],
   "source": [
    "from six import StringIO\n",
    "from IPython.display import Image\n",
    "from sklearn.tree import export_graphviz\n",
    "import pydotplus\n",
    "dot_data = StringIO()\n",
    "export_graphviz(clf1, out_file=dot_data,filled=True, rounded=True,special_characters=True,feature_names=feature_cols)\n",
    "graph = pydotplus.graph_from_dot_data(dot_data.getvalue())\n",
    "Image(graph.create_png(), width=12000, height=12000)"
   ]
  },
  {
   "cell_type": "code",
   "execution_count": null,
   "metadata": {},
   "outputs": [],
   "source": []
  }
 ],
 "metadata": {
  "kernelspec": {
   "display_name": "Python 3",
   "language": "python",
   "name": "python3"
  },
  "language_info": {
   "codemirror_mode": {
    "name": "ipython",
    "version": 3
   },
   "file_extension": ".py",
   "mimetype": "text/x-python",
   "name": "python",
   "nbconvert_exporter": "python",
   "pygments_lexer": "ipython3",
   "version": "3.8.5"
  }
 },
 "nbformat": 4,
 "nbformat_minor": 2
}
